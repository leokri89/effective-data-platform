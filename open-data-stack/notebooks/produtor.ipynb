{
 "cells": [
  {
   "cell_type": "code",
   "execution_count": 1,
   "id": "8e96ee79-7620-4b6b-bb10-a16c64cd3246",
   "metadata": {},
   "outputs": [],
   "source": [
    "import sys\n",
    "sys.path.append('/libs')\n",
    "\n",
    "import kafka_repository\n",
    "import importlib\n",
    "from faker import Faker\n",
    "import json\n",
    "\n",
    "importlib.reload(kafka_repository)\n",
    "\n",
    "KAFKA_BROKER = 'flink-kafka-1'\n",
    "KAFKA_PORT = '9092'\n",
    "KAFKA_TOPIC = 'first-topic'"
   ]
  },
  {
   "cell_type": "code",
   "execution_count": 2,
   "id": "ed6dbe55-662c-4ca7-a11d-24bbb6d7f7ce",
   "metadata": {},
   "outputs": [],
   "source": [
    "kafka_repo = kafka_repository.KafkaRepository(KAFKA_BROKER, KAFKA_PORT)"
   ]
  },
  {
   "cell_type": "code",
   "execution_count": 8,
   "id": "bf3b030c-9fe4-4c1f-8f73-159c53a36811",
   "metadata": {},
   "outputs": [
    {
     "name": "stdout",
     "output_type": "stream",
     "text": [
      "Tópico first-topic já existe!\n"
     ]
    }
   ],
   "source": [
    "kafka_repo.create_topic(KAFKA_TOPIC)"
   ]
  },
  {
   "cell_type": "code",
   "execution_count": 6,
   "id": "2a5d1328-2e0a-48a7-ad8f-11192a7dbfc1",
   "metadata": {},
   "outputs": [
    {
     "data": {
      "text/plain": [
       "'{\"nome\": \"Douglas Peters\", \"email\": \"shane09@example.net\", \"endereco\": \"USS Mcbride\\\\nFPO AP 64324\", \"telefone\": \"+1-454-864-3676x777\"}'"
      ]
     },
     "execution_count": 6,
     "metadata": {},
     "output_type": "execute_result"
    }
   ],
   "source": [
    "while True:\n",
    "    fake = Faker()\n",
    "    \n",
    "    # Geração de dados fake\n",
    "    data = {\n",
    "        'nome': fake.name(),\n",
    "        'email': fake.email(),\n",
    "        'endereco': fake.address(),\n",
    "        'telefone': fake.phone_number()\n",
    "    }\n",
    "    \n",
    "    # Conversão do dicionário para formato JSON\n",
    "    message = json.dumps(data)\n",
    "    \n",
    "    # Envio da mensagem ao tópico Kafka\n",
    "    kafka_repo.publish_one_text_messages(KAFKA_TOPIC, message)"
   ]
  }
 ],
 "metadata": {
  "kernelspec": {
   "display_name": "Python 3 (ipykernel)",
   "language": "python",
   "name": "python3"
  },
  "language_info": {
   "codemirror_mode": {
    "name": "ipython",
    "version": 3
   },
   "file_extension": ".py",
   "mimetype": "text/x-python",
   "name": "python",
   "nbconvert_exporter": "python",
   "pygments_lexer": "ipython3",
   "version": "3.9.10"
  }
 },
 "nbformat": 4,
 "nbformat_minor": 5
}
