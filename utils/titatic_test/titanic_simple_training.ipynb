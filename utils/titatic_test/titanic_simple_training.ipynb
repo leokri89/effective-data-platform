{
 "cells": [
  {
   "cell_type": "code",
   "execution_count": 168,
   "metadata": {
    "collapsed": true
   },
   "outputs": [],
   "source": [
    "\n",
    "import pandas as pd\n",
    "import numpy as np\n",
    "from sklearn.impute import SimpleImputer\n",
    "from sklearn.compose import ColumnTransformer\n",
    "from sklearn.preprocessing import StandardScaler, OneHotEncoder\n",
    "from sklearn.model_selection import StratifiedKFold\n",
    "from sklearn.naive_bayes import GaussianNB\n",
    "from sklearn.metrics import accuracy_score\n",
    "\n",
    "train = pd.read_csv(r\"F:\\DataScience\\ml-scripting\\study cases\\titanic\\datasets\\train.csv\")\n"
   ]
  },
  {
   "cell_type": "code",
   "execution_count": 169,
   "metadata": {},
   "outputs": [
    {
     "output_type": "execute_result",
     "data": {
      "text/plain": [
       "   Survived  Pclass     Sex   Age  SibSp  Parch Embarked\n",
       "0         0       3    male  22.0      1      0        S\n",
       "1         1       1  female  38.0      1      0        C\n",
       "2         1       3  female  26.0      0      0        S\n",
       "3         1       1  female  35.0      1      0        S"
      ],
      "text/html": "<div>\n<style scoped>\n    .dataframe tbody tr th:only-of-type {\n        vertical-align: middle;\n    }\n\n    .dataframe tbody tr th {\n        vertical-align: top;\n    }\n\n    .dataframe thead th {\n        text-align: right;\n    }\n</style>\n<table border=\"1\" class=\"dataframe\">\n  <thead>\n    <tr style=\"text-align: right;\">\n      <th></th>\n      <th>Survived</th>\n      <th>Pclass</th>\n      <th>Sex</th>\n      <th>Age</th>\n      <th>SibSp</th>\n      <th>Parch</th>\n      <th>Embarked</th>\n    </tr>\n  </thead>\n  <tbody>\n    <tr>\n      <th>0</th>\n      <td>0</td>\n      <td>3</td>\n      <td>male</td>\n      <td>22.0</td>\n      <td>1</td>\n      <td>0</td>\n      <td>S</td>\n    </tr>\n    <tr>\n      <th>1</th>\n      <td>1</td>\n      <td>1</td>\n      <td>female</td>\n      <td>38.0</td>\n      <td>1</td>\n      <td>0</td>\n      <td>C</td>\n    </tr>\n    <tr>\n      <th>2</th>\n      <td>1</td>\n      <td>3</td>\n      <td>female</td>\n      <td>26.0</td>\n      <td>0</td>\n      <td>0</td>\n      <td>S</td>\n    </tr>\n    <tr>\n      <th>3</th>\n      <td>1</td>\n      <td>1</td>\n      <td>female</td>\n      <td>35.0</td>\n      <td>1</td>\n      <td>0</td>\n      <td>S</td>\n    </tr>\n  </tbody>\n</table>\n</div>"
     },
     "metadata": {},
     "execution_count": 169
    }
   ],
   "source": [
    "\n",
    "train.drop(['PassengerId','Name','Ticket','Cabin','Fare'], axis=1, inplace=True)\n",
    "train.head(4)\n"
   ]
  },
  {
   "cell_type": "code",
   "execution_count": 160,
   "metadata": {
    "collapsed": true
   },
   "outputs": [
    {
     "output_type": "execute_result",
     "data": {
      "text/plain": [
       "   Survived  Pclass   Age  SibSp  Parch  Sex_female  Sex_male  Embarked_C  \\\n",
       "0         0       3  22.0      1      0           0         1           0   \n",
       "1         1       1  38.0      1      0           1         0           1   \n",
       "2         1       3  26.0      0      0           1         0           0   \n",
       "3         1       1  35.0      1      0           1         0           0   \n",
       "\n",
       "   Embarked_Q  Embarked_S  \n",
       "0           0           1  \n",
       "1           0           0  \n",
       "2           0           1  \n",
       "3           0           1  "
      ],
      "text/html": "<div>\n<style scoped>\n    .dataframe tbody tr th:only-of-type {\n        vertical-align: middle;\n    }\n\n    .dataframe tbody tr th {\n        vertical-align: top;\n    }\n\n    .dataframe thead th {\n        text-align: right;\n    }\n</style>\n<table border=\"1\" class=\"dataframe\">\n  <thead>\n    <tr style=\"text-align: right;\">\n      <th></th>\n      <th>Survived</th>\n      <th>Pclass</th>\n      <th>Age</th>\n      <th>SibSp</th>\n      <th>Parch</th>\n      <th>Sex_female</th>\n      <th>Sex_male</th>\n      <th>Embarked_C</th>\n      <th>Embarked_Q</th>\n      <th>Embarked_S</th>\n    </tr>\n  </thead>\n  <tbody>\n    <tr>\n      <th>0</th>\n      <td>0</td>\n      <td>3</td>\n      <td>22.0</td>\n      <td>1</td>\n      <td>0</td>\n      <td>0</td>\n      <td>1</td>\n      <td>0</td>\n      <td>0</td>\n      <td>1</td>\n    </tr>\n    <tr>\n      <th>1</th>\n      <td>1</td>\n      <td>1</td>\n      <td>38.0</td>\n      <td>1</td>\n      <td>0</td>\n      <td>1</td>\n      <td>0</td>\n      <td>1</td>\n      <td>0</td>\n      <td>0</td>\n    </tr>\n    <tr>\n      <th>2</th>\n      <td>1</td>\n      <td>3</td>\n      <td>26.0</td>\n      <td>0</td>\n      <td>0</td>\n      <td>1</td>\n      <td>0</td>\n      <td>0</td>\n      <td>0</td>\n      <td>1</td>\n    </tr>\n    <tr>\n      <th>3</th>\n      <td>1</td>\n      <td>1</td>\n      <td>35.0</td>\n      <td>1</td>\n      <td>0</td>\n      <td>1</td>\n      <td>0</td>\n      <td>0</td>\n      <td>0</td>\n      <td>1</td>\n    </tr>\n  </tbody>\n</table>\n</div>"
     },
     "metadata": {},
     "execution_count": 160
    }
   ],
   "source": [
    "\n",
    "def StringCategoricalImputer(dataframe, fields):\n",
    "    imputer = SimpleImputer(missing_values=np.nan, strategy='most_frequent')\n",
    "    dataframe[fields] = imputer.fit_transform(dataframe[fields])\n",
    "    return dataframe, imputer\n",
    "\n",
    "\n",
    "def NumericalCategoricalImputer(dataframe, fields):\n",
    "    imputer = SimpleImputer(missing_values=np.nan, strategy='mean')\n",
    "    dataframe[fields] = imputer.fit_transform(dataframe[fields])\n",
    "    return dataframe, imputer\n",
    "\n",
    "\n",
    "def OneHotTransformerSKLearn(dataframe, fields):\n",
    "    transformer = ColumnTransformer([( 'encoder', OneHotEncoder(), fields)],\n",
    "                                                 remainder='passthrough')\n",
    "    dataframe = pd.DataFrame(transformer.fit_transform(dataframe))\n",
    "    return dataframe\n",
    "\n",
    "\n",
    "def OneHotTransformerDummies(dataframe, fields):\n",
    "    return pd.get_dummies(dataframe, columns=fields)\n",
    "\n",
    "\n",
    "def ScalerTransformer(dataframe):\n",
    "    scaler = StandardScaler()\n",
    "    cols = X.columns.to_list()\n",
    "    return pd.DataFrame(scaler.fit_transform(X), columns=cols)\n",
    "\n",
    "\n",
    "categorical = ['Sex','SibSp','Embarked','Parch','Pclass']\n",
    "train, StringImputer = StringCategoricalImputer(train, categorical)\n",
    "\n",
    "numerical = ['Age']\n",
    "train, NumericalImputer = NumericalCategoricalImputer(train, numerical)\n",
    "\n",
    "dummies = ['Sex','Embarked']\n",
    "train = OneHotTransformerDummies(train, transformer)\n",
    "\n",
    "train.head(4)\n"
   ]
  },
  {
   "cell_type": "code",
   "execution_count": 170,
   "metadata": {},
   "outputs": [
    {
     "output_type": "display_data",
     "data": {
      "text/plain": "   Pclass     Sex   Age  SibSp  Parch Embarked\n0       3    male  22.0      1      0        S\n1       1  female  38.0      1      0        C\n2       3  female  26.0      0      0        S\n3       1  female  35.0      1      0        S",
      "text/html": "<div>\n<style scoped>\n    .dataframe tbody tr th:only-of-type {\n        vertical-align: middle;\n    }\n\n    .dataframe tbody tr th {\n        vertical-align: top;\n    }\n\n    .dataframe thead th {\n        text-align: right;\n    }\n</style>\n<table border=\"1\" class=\"dataframe\">\n  <thead>\n    <tr style=\"text-align: right;\">\n      <th></th>\n      <th>Pclass</th>\n      <th>Sex</th>\n      <th>Age</th>\n      <th>SibSp</th>\n      <th>Parch</th>\n      <th>Embarked</th>\n    </tr>\n  </thead>\n  <tbody>\n    <tr>\n      <th>0</th>\n      <td>3</td>\n      <td>male</td>\n      <td>22.0</td>\n      <td>1</td>\n      <td>0</td>\n      <td>S</td>\n    </tr>\n    <tr>\n      <th>1</th>\n      <td>1</td>\n      <td>female</td>\n      <td>38.0</td>\n      <td>1</td>\n      <td>0</td>\n      <td>C</td>\n    </tr>\n    <tr>\n      <th>2</th>\n      <td>3</td>\n      <td>female</td>\n      <td>26.0</td>\n      <td>0</td>\n      <td>0</td>\n      <td>S</td>\n    </tr>\n    <tr>\n      <th>3</th>\n      <td>1</td>\n      <td>female</td>\n      <td>35.0</td>\n      <td>1</td>\n      <td>0</td>\n      <td>S</td>\n    </tr>\n  </tbody>\n</table>\n</div>"
     },
     "metadata": {}
    },
    {
     "output_type": "display_data",
     "data": {
      "text/plain": "0    0\n1    1\n2    1\n3    1\nName: Survived, dtype: int64"
     },
     "metadata": {}
    }
   ],
   "source": [
    "\n",
    "X = train.drop('Survived', axis=1)\n",
    "y = train['Survived']\n",
    "\n",
    "#X = ScalerTransformer(X)\n",
    "\n",
    "display(X.head(4))\n",
    "display(y.head(4))\n"
   ]
  },
  {
   "cell_type": "code",
   "execution_count": 162,
   "metadata": {
    "tags": []
   },
   "outputs": [],
   "source": [
    "\n",
    "def classificadorNaiveBayes(previsores_train, classe_train, previsores_test, classe_test):\n",
    "    classificadorNaive = GaussianNB()\n",
    "    classificadorNaive.fit(previsores_train, classe_train)\n",
    "    previsoes = classificadorNaive.predict(previsores_test)\n",
    "    precisao = accuracy_score(classe_test, previsoes)\n",
    "    return precisao\n",
    "\n",
    "\n",
    "def get_crossvalidation_fold_index(X, y, splits=5):\n",
    "    kfold = StratifiedKFold(n_splits=splits, shuffle=True, random_state = 101)\n",
    "    kfold_list = list()\n",
    "    for train_index, test_index in kfold.split(X, y):\n",
    "        kfold_list.append( {\"nr_fold\": len(kfold_list),\n",
    "                            \"train\": train_index,\n",
    "                            \"test\": test_index} )\n",
    "    return kfold_list\n",
    "\n",
    "\n",
    "folds = get_crossvalidation_fold_index(X, y, 5)\n",
    "\n",
    "for i, v in enumerate(folds):\n",
    "    X_train = X.loc[folds[i].get('train')]\n",
    "    y_train = y.loc[folds[i].get('train')]\n",
    "    X_test  = X.loc[folds[i].get('test')]\n",
    "    y_test  = y.loc[folds[i].get('test')]\n",
    "    folds[i]['NaiveBayes_accuracy'] = classificadorNaiveBayes(X_train, y_train, X_test, y_test)\n"
   ]
  },
  {
   "cell_type": "code",
   "execution_count": 157,
   "metadata": {},
   "outputs": [
    {
     "output_type": "stream",
     "name": "stdout",
     "text": [
      "Accuracy: 78.21%\nAccuracy: 87.64%\nAccuracy: 78.65%\nAccuracy: 76.97%\nAccuracy: 73.60%\nMedia Accuracy: 79.01%\n"
     ]
    }
   ],
   "source": [
    "\n",
    "media = 0\n",
    "for item in folds:\n",
    "    score = item.get('NaiveBayes_accuracy') * 100\n",
    "    media = media + score\n",
    "    print('Accuracy: {:.2f}%'.format(score))\n",
    "\n",
    "print('Media Accuracy: {:.2f}%'.format(media / len(folds)))\n"
   ]
  }
 ],
 "metadata": {
  "kernelspec": {
   "name": "python3",
   "display_name": "Python 3.7.5 64-bit ('evalml': conda)"
  },
  "language_info": {
   "codemirror_mode": {
    "name": "ipython",
    "version": 3
   },
   "file_extension": ".py",
   "mimetype": "text/x-python",
   "name": "python",
   "nbconvert_exporter": "python",
   "pygments_lexer": "ipython3",
   "version": "3.7.5"
  },
  "interpreter": {
   "hash": "164a20b5414c464ac7d7b2b36bea6c1da23c63ff13e871104f8aef9141397d5d"
  }
 },
 "nbformat": 4,
 "nbformat_minor": 2
}