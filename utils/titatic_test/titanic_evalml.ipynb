{
 "cells": [
  {
   "cell_type": "code",
   "execution_count": 168,
   "metadata": {
    "collapsed": true
   },
   "outputs": [],
   "source": [
    "\n",
    "import pandas as pd\n",
    "import numpy as np\n",
    "import evalml\n",
    "from evalml import AutoMLSearch\n",
    "from evalml.utils import infer_feature_types\n",
    "\n",
    "train = pd.read_csv(r\"F:\\DataScience\\ml-scripting\\study cases\\titanic\\datasets\\train.csv\")\n"
   ]
  },
  {
   "cell_type": "code",
   "execution_count": 169,
   "metadata": {},
   "outputs": [
    {
     "output_type": "execute_result",
     "data": {
      "text/plain": [
       "   Survived  Pclass     Sex   Age  SibSp  Parch Embarked\n",
       "0         0       3    male  22.0      1      0        S\n",
       "1         1       1  female  38.0      1      0        C\n",
       "2         1       3  female  26.0      0      0        S\n",
       "3         1       1  female  35.0      1      0        S"
      ],
      "text/html": "<div>\n<style scoped>\n    .dataframe tbody tr th:only-of-type {\n        vertical-align: middle;\n    }\n\n    .dataframe tbody tr th {\n        vertical-align: top;\n    }\n\n    .dataframe thead th {\n        text-align: right;\n    }\n</style>\n<table border=\"1\" class=\"dataframe\">\n  <thead>\n    <tr style=\"text-align: right;\">\n      <th></th>\n      <th>Survived</th>\n      <th>Pclass</th>\n      <th>Sex</th>\n      <th>Age</th>\n      <th>SibSp</th>\n      <th>Parch</th>\n      <th>Embarked</th>\n    </tr>\n  </thead>\n  <tbody>\n    <tr>\n      <th>0</th>\n      <td>0</td>\n      <td>3</td>\n      <td>male</td>\n      <td>22.0</td>\n      <td>1</td>\n      <td>0</td>\n      <td>S</td>\n    </tr>\n    <tr>\n      <th>1</th>\n      <td>1</td>\n      <td>1</td>\n      <td>female</td>\n      <td>38.0</td>\n      <td>1</td>\n      <td>0</td>\n      <td>C</td>\n    </tr>\n    <tr>\n      <th>2</th>\n      <td>1</td>\n      <td>3</td>\n      <td>female</td>\n      <td>26.0</td>\n      <td>0</td>\n      <td>0</td>\n      <td>S</td>\n    </tr>\n    <tr>\n      <th>3</th>\n      <td>1</td>\n      <td>1</td>\n      <td>female</td>\n      <td>35.0</td>\n      <td>1</td>\n      <td>0</td>\n      <td>S</td>\n    </tr>\n  </tbody>\n</table>\n</div>"
     },
     "metadata": {},
     "execution_count": 169
    }
   ],
   "source": [
    "\n",
    "train.drop(['PassengerId','Name','Ticket','Cabin','Fare'], axis=1, inplace=True)\n",
    "\n",
    "X = train.drop('Survived', axis=1)\n",
    "y = train['Survived']\n",
    "\n",
    "display(X.head(4))\n",
    "display(y.head(4))\n"
   ]
  },
  {
   "cell_type": "code",
   "execution_count": 172,
   "metadata": {},
   "outputs": [
    {
     "output_type": "execute_result",
     "data": {
      "text/plain": [
       "         Physical Type Logical Type Semantic Tag(s)\n",
       "Column                                             \n",
       "Pclass        category  Categorical    ['category']\n",
       "Sex           category  Categorical    ['category']\n",
       "Age            float64       Double     ['numeric']\n",
       "SibSp            int64      Integer     ['numeric']\n",
       "Parch         category  Categorical    ['category']\n",
       "Embarked      category  Categorical    ['category']"
      ],
      "text/html": "<table border=\"1\" class=\"dataframe\">\n  <thead>\n    <tr style=\"text-align: right;\">\n      <th></th>\n      <th>Physical Type</th>\n      <th>Logical Type</th>\n      <th>Semantic Tag(s)</th>\n    </tr>\n    <tr>\n      <th>Column</th>\n      <th></th>\n      <th></th>\n      <th></th>\n    </tr>\n  </thead>\n  <tbody>\n    <tr>\n      <th>Pclass</th>\n      <td>category</td>\n      <td>Categorical</td>\n      <td>['category']</td>\n    </tr>\n    <tr>\n      <th>Sex</th>\n      <td>category</td>\n      <td>Categorical</td>\n      <td>['category']</td>\n    </tr>\n    <tr>\n      <th>Age</th>\n      <td>float64</td>\n      <td>Double</td>\n      <td>['numeric']</td>\n    </tr>\n    <tr>\n      <th>SibSp</th>\n      <td>int64</td>\n      <td>Integer</td>\n      <td>['numeric']</td>\n    </tr>\n    <tr>\n      <th>Parch</th>\n      <td>category</td>\n      <td>Categorical</td>\n      <td>['category']</td>\n    </tr>\n    <tr>\n      <th>Embarked</th>\n      <td>category</td>\n      <td>Categorical</td>\n      <td>['category']</td>\n    </tr>\n  </tbody>\n</table>"
     },
     "metadata": {},
     "execution_count": 172
    }
   ],
   "source": [
    "\n",
    "X_evalml = infer_feature_types(X, feature_types={'Pclass': 'Categorical',\n",
    "                                                 'Sex': 'Categorical',\n",
    "                                                 'Age': 'Double',\n",
    "                                                 'SibSp': 'Integer',\n",
    "                                                 'Parch': 'Categorical',\n",
    "                                                 'Embarked': 'Categorical'\n",
    "                                                 })\n",
    "X_evalml.ww\n"
   ]
  },
  {
   "cell_type": "code",
   "execution_count": 174,
   "metadata": {},
   "outputs": [],
   "source": [
    "\n",
    "X_train, X_holdout, y_train, y_holdout = evalml.preprocessing.split_data(X_evalml, y, problem_type='binary', test_size=.2)\n"
   ]
  },
  {
   "cell_type": "code",
   "execution_count": 182,
   "metadata": {},
   "outputs": [
    {
     "output_type": "stream",
     "name": "stdout",
     "text": [
      "Generating pipelines to search over...\n",
      "8 pipelines ready for search.\n",
      "\n",
      "*****************************\n",
      "* Beginning pipeline search *\n",
      "*****************************\n",
      "\n",
      "Optimizing for AUC. \n",
      "Greater score is better.\n",
      "\n",
      "Using SequentialEngine to train and score pipelines.\n",
      "Searching up to 1 batches for a total of 9 pipelines. \n",
      "Allowed model families: random_forest, xgboost, linear_model, extra_trees, catboost, lightgbm, decision_tree\n",
      "\n"
     ]
    },
    {
     "output_type": "display_data",
     "data": {
      "text/plain": "FigureWidget({\n    'data': [{'mode': 'lines+markers',\n              'name': 'Best Score',\n              'type'…",
      "application/vnd.jupyter.widget-view+json": {
       "version_major": 2,
       "version_minor": 0,
       "model_id": "ee9a420fcb724ed29d5caa77cd9180d0"
      }
     },
     "metadata": {}
    },
    {
     "output_type": "stream",
     "name": "stdout",
     "text": [
      "Evaluating Baseline Pipeline: Mode Baseline Binary Classification Pipeline\n",
      "Mode Baseline Binary Classification Pipeline:\n",
      "\tStarting cross validation\n",
      "\tFinished cross validation - mean AUC: 0.500\n",
      "\n",
      "*****************************\n",
      "* Evaluating Batch Number 1 *\n",
      "*****************************\n",
      "\n",
      "Elastic Net Classifier w/ Imputer + One Hot Encoder + Standard Scaler:\n",
      "\tStarting cross validation\n",
      "\tFinished cross validation - mean AUC: 0.699\n",
      "Decision Tree Classifier w/ Imputer + One Hot Encoder:\n",
      "\tStarting cross validation\n",
      "\tFinished cross validation - mean AUC: 0.837\n",
      "Random Forest Classifier w/ Imputer + One Hot Encoder:\n",
      "\tStarting cross validation\n",
      "\tFinished cross validation - mean AUC: 0.858\n",
      "LightGBM Classifier w/ Imputer + One Hot Encoder:\n",
      "\tStarting cross validation\n",
      "\tFinished cross validation - mean AUC: 0.849\n",
      "Logistic Regression Classifier w/ Imputer + One Hot Encoder + Standard Scaler:\n",
      "\tStarting cross validation\n",
      "\tFinished cross validation - mean AUC: 0.845\n",
      "XGBoost Classifier w/ Imputer + One Hot Encoder:\n",
      "\tStarting cross validation\n",
      "\tFinished cross validation - mean AUC: 0.837\n",
      "Extra Trees Classifier w/ Imputer + One Hot Encoder:\n",
      "\tStarting cross validation\n",
      "\tFinished cross validation - mean AUC: 0.859\n",
      "CatBoost Classifier w/ Imputer:\n",
      "\tStarting cross validation\n",
      "\tFinished cross validation - mean AUC: 0.844\n",
      "\n",
      "Search finished after 00:20            \n",
      "Best pipeline: Extra Trees Classifier w/ Imputer + One Hot Encoder\n",
      "Best pipeline AUC: 0.858813\n"
     ]
    }
   ],
   "source": [
    "\n",
    "automl = AutoMLSearch(X_train=X_train,\n",
    "                      y_train=y_train,\n",
    "                      problem_type='binary',\n",
    "                      objective='AUC',\n",
    "                      max_batches=1)\n",
    "automl.search()\n"
   ]
  },
  {
   "cell_type": "code",
   "execution_count": 180,
   "metadata": {},
   "outputs": [
    {
     "output_type": "execute_result",
     "data": {
      "text/plain": [
       "pipeline = BinaryClassificationPipeline(component_graph=[Imputer, OneHotEncoder, ExtraTreesClassifier], parameters={'Imputer':{'categorical_impute_strategy': 'most_frequent', 'numeric_impute_strategy': 'mean', 'categorical_fill_value': None, 'numeric_fill_value': None}, 'One Hot Encoder':{'top_n': 10, 'features_to_encode': None, 'categories': None, 'drop': 'if_binary', 'handle_unknown': 'ignore', 'handle_missing': 'error'}, 'Extra Trees Classifier':{'n_estimators': 100, 'max_features': 'auto', 'max_depth': 6, 'min_samples_split': 2, 'min_weight_fraction_leaf': 0.0, 'n_jobs': -1}}, custom_hyperparameters={'None':{'sampling_ratio': 0.25}}, random_seed=0)"
      ]
     },
     "metadata": {},
     "execution_count": 180
    }
   ],
   "source": [
    "\n",
    "automl.best_pipeline\n"
   ]
  }
 ],
 "metadata": {
  "kernelspec": {
   "name": "python3",
   "display_name": "Python 3.7.5 64-bit ('evalml': conda)"
  },
  "language_info": {
   "codemirror_mode": {
    "name": "ipython",
    "version": 3
   },
   "file_extension": ".py",
   "mimetype": "text/x-python",
   "name": "python",
   "nbconvert_exporter": "python",
   "pygments_lexer": "ipython3",
   "version": "3.7.5"
  },
  "interpreter": {
   "hash": "164a20b5414c464ac7d7b2b36bea6c1da23c63ff13e871104f8aef9141397d5d"
  }
 },
 "nbformat": 4,
 "nbformat_minor": 2
}