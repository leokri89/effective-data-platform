{
 "cells": [
  {
   "cell_type": "code",
   "execution_count": 27,
   "metadata": {},
   "outputs": [],
   "source": [
    "import json\n",
    "import boto3\n",
    "\n",
    "\n",
    "def lambda_handler(event, context):\n",
    "    try:\n",
    "        client = boto3.client('sns')\n",
    "\n",
    "        for record in event['Records']:\n",
    "            key = record.get('s3').get('object').get('key')\n",
    "            bucket = record.get('s3').get('bucket').get('name')\n",
    "            command = record.get('eventName')\n",
    "\n",
    "            client.publish(\n",
    "                TopicArn='arn:aws:sns:us-east-1:781782762636:notification-sns',\n",
    "                Message=json.dumps(record),\n",
    "                MessageAttributes={\n",
    "                    'key': {'DataType':'String', 'StringValue':key},\n",
    "                    'bucket': {'DataType':'String', 'StringValue':bucket},\n",
    "                    'command': {'DataType':'String', 'StringValue':command}\n",
    "                    }\n",
    "            )\n",
    "        return {\n",
    "            'statusCode': 200,\n",
    "            'message': 'ok'\n",
    "            }\n",
    "    except:\n",
    "        return {\n",
    "            'statusCode': 404,\n",
    "            'message': 'Unknown Error'\n",
    "            }\n",
    "\n",
    "        "
   ]
  },
  {
   "cell_type": "code",
   "execution_count": 8,
   "metadata": {},
   "outputs": [
    {
     "data": {
      "text/plain": [
       "[]"
      ]
     },
     "execution_count": 8,
     "metadata": {},
     "output_type": "execute_result"
    }
   ],
   "source": []
  },
  {
   "cell_type": "code",
   "execution_count": 28,
   "metadata": {},
   "outputs": [
    {
     "data": {
      "text/plain": [
       "'C:\\\\Users\\\\lkriv\\\\AppData\\\\Roaming'"
      ]
     },
     "execution_count": 28,
     "metadata": {},
     "output_type": "execute_result"
    }
   ],
   "source": [
    "[value for item, value in os.environ.items() if item.lower() == 'topicarn'][0]\n",
    "\n"
   ]
  }
 ],
 "metadata": {
  "interpreter": {
   "hash": "e099db696e69a182e3e1733d24e9d7b26bb846757812454c2b7b45dcc8a3e0d2"
  },
  "kernelspec": {
   "display_name": "Python 3.9.10 ('geral')",
   "language": "python",
   "name": "python3"
  },
  "language_info": {
   "codemirror_mode": {
    "name": "ipython",
    "version": 3
   },
   "file_extension": ".py",
   "mimetype": "text/x-python",
   "name": "python",
   "nbconvert_exporter": "python",
   "pygments_lexer": "ipython3",
   "version": "3.9.10"
  },
  "orig_nbformat": 4
 },
 "nbformat": 4,
 "nbformat_minor": 2
}
